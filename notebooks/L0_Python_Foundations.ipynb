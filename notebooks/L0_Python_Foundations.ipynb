{
 "cells": [
  {
   "cell_type": "markdown",
   "id": "fc76e9e5",
   "metadata": {},
   "source": [
    "# Lesson 0 — Python Foundations for Language Model Builders\n",
    "\n",
    "Welcome! This warm-up lesson gives you everything you need to understand the Python code that powers the rest of the course. We'll start with fundamentals and layer on new skills until you are ready to read and write the machine learning programs that appear in Lessons 1–6.\n",
    "\n",
    "Throughout the notebook you will see:\n",
    "\n",
    "* **Concept callouts** that introduce new vocabulary.\n",
    "* **Code demos** that mirror the exact techniques used in later lessons.\n",
    "* **Practice prompts** that encourage you to tweak the examples and observe what happens."
   ]
  },
  {
   "cell_type": "markdown",
   "id": "e6a063c2",
   "metadata": {},
   "source": [
    "## Learning goals\n",
    "\n",
    "By the end of this lesson you should be able to:\n",
    "\n",
    "1. Read and write Python expressions with numbers, strings, lists, dictionaries, and loops.\n",
    "2. Define reusable functions and understand how Python modules (packages of functions) are imported and used.\n",
    "3. Manipulate text data, file paths, and counters—core tools for tokenization and language modeling.\n",
    "4. Work comfortably with scientific libraries such as `numpy`, `matplotlib`, `torch`, and `transformers` that appear in later lessons.\n",
    "5. Explain the purpose of decorators, classes, and object-oriented patterns used to build neural networks."
   ]
  },
  {
   "cell_type": "markdown",
   "id": "c11d8b33",
   "metadata": {},
   "source": [
    "## 1. Python syntax essentials\n",
    "\n",
    "Let's begin with the smallest building blocks: values, variables, and expressions.\n",
    "\n",
    "* **Value** — a piece of data such as the number `42` or the string `'token'`.\n",
    "* **Variable** — a name that points to a value so we can reuse it.\n",
    "* **Expression** — something Python can evaluate to produce a result."
   ]
  },
  {
   "cell_type": "code",
   "execution_count": null,
   "id": "346ed769",
   "metadata": {},
   "outputs": [],
   "source": [
    "\n",
    "# numbers and strings\n",
    "count = 3 + 4\n",
    "message = \"Tokens learned\"\n",
    "# f-strings let us combine text and variable values\n",
    "print(f\"We discovered {count} new tokens. {message}!\")\n",
    "# built-in len() works on many objects, including strings\n",
    "print(\"Characters in message:\", len(message))\n"
   ]
  },
  {
   "cell_type": "markdown",
   "id": "a1e808a1",
   "metadata": {},
   "source": [
    "### Comments and whitespace\n",
    "\n",
    "You will notice comments that start with `#`. These are notes for humans and Python ignores them. Blank lines help group ideas and do not change the program."
   ]
  },
  {
   "cell_type": "markdown",
   "id": "a580e10a",
   "metadata": {},
   "source": [
    "### Built-in functions we will reuse often\n",
    "\n",
    "| Function | Purpose in later lessons |\n",
    "| --- | --- |\n",
    "| `len(obj)` | Count characters or tokens (Lessons 1–4). |\n",
    "| `sorted(iterable)` | Order vocabulary entries (Lessons 1–3). |\n",
    "| `set(iterable)` | Collect unique characters or words (Lessons 1–3). |\n",
    "| `sum(values)` | Combine counts or losses (Lessons 3–4). |\n",
    "| `min`, `max` | Track best scores or probabilities (Lessons 1–3). |\n",
    "| `round(number, ndigits)` | Format metrics like perplexity (Lessons 3 & 6). |"
   ]
  },
  {
   "cell_type": "markdown",
   "id": "a5484bfc",
   "metadata": {},
   "source": [
    "## 2. Strings, lists, tuples, dictionaries, and sets\n",
    "\n",
    "The language modeling notebooks work with sequences of characters and words, so we must be comfortable with Python's core containers."
   ]
  },
  {
   "cell_type": "code",
   "execution_count": null,
   "id": "4691e3d2",
   "metadata": {},
   "outputs": [],
   "source": [
    "\n",
    "words = [\"rocket\", \"ship\", \"portal\"]  # list: ordered and editable\n",
    "first, second, third = words  # tuple-unpacking of a list\n",
    "print(\"First word:\", first)\n",
    "words.append(\"village\")  # add to a list (Lesson 1)\n",
    "print(\"Updated words:\", words)\n",
    "letters = set(\"astronaut\")  # set: unordered, unique elements\n",
    "print(\"Unique letters:\", sorted(letters))\n",
    "facts = {\"creeper\": \"Minecraft enemy\", \"falcon\": \"bird\"}  # dictionary\n",
    "print(\"Lookup:\", facts[\"creeper\"])  # key-based access (Lessons 1–3)\n",
    "facts[\"falcon\"] = \"space launch company\"\n",
    "print(\"Updated dictionary:\", facts)\n"
   ]
  },
  {
   "cell_type": "markdown",
   "id": "afd70ece",
   "metadata": {},
   "source": [
    "### Slicing and comprehension patterns\n",
    "\n",
    "Slicing lets us grab a portion of a sequence, and comprehensions provide a concise way to build new lists or dictionaries. These appear repeatedly when we create vocabularies and embeddings."
   ]
  },
  {
   "cell_type": "code",
   "execution_count": null,
   "id": "be281f25",
   "metadata": {},
   "outputs": [],
   "source": [
    "\n",
    "text = \"dogonauts\"\n",
    "print(\"First three letters:\", text[:3])\n",
    "print(\"Every other letter:\", text[::2])\n",
    "\n",
    "# List comprehension to lowercase each token\n",
    "raw_tokens = [\"Dog\", \"Wolves\", \"Stars\"]\n",
    "clean_tokens = [token.lower() for token in raw_tokens]\n",
    "print(clean_tokens)\n",
    "\n",
    "# Dictionary comprehension builds {word: index}\n",
    "vocab = sorted(set(clean_tokens))\n",
    "word_to_index = {word: idx for idx, word in enumerate(vocab)}\n",
    "print(word_to_index)\n"
   ]
  },
  {
   "cell_type": "markdown",
   "id": "e3083798",
   "metadata": {},
   "source": [
    "### Practice prompt\n",
    "\n",
    "Change `raw_tokens` to include a phrase with a space, such as `'Space Station'`. Predict how the list and dictionary comprehensions respond and then run the cell to verify."
   ]
  },
  {
   "cell_type": "markdown",
   "id": "b35ff2ac",
   "metadata": {},
   "source": [
    "## 3. Conditionals and loops\n",
    "\n",
    "The later lessons loop over tokens, characters, and batches. Control flow statements give us that power.\n",
    "\n",
    "* `if`/`elif`/`else` choose a branch.\n",
    "* `for` iterates over items in a sequence.\n",
    "* `while` keeps going until a condition stops it.\n",
    "* `break` and `continue` adjust the loop's behavior."
   ]
  },
  {
   "cell_type": "code",
   "execution_count": null,
   "id": "133793e6",
   "metadata": {},
   "outputs": [],
   "source": [
    "\n",
    "words = [\"dog\", \"dogs\", \"wolf\", \"wolves\"]\n",
    "for word in words:\n",
    "    if word.endswith(\"s\"):\n",
    "        print(f\"Plural detected: {word}\")\n",
    "    else:\n",
    "        print(f\"Singular detected: {word}\")\n",
    "\n",
    "# while-loop for iterative merges (mirrors Lesson 1's tokenizer)\n",
    "symbols = list(\"moon\") + [\"</w>\"]\n",
    "merges = [(\"o\", \"o\")]\n",
    "for pair in merges:\n",
    "    i = 0\n",
    "    while i < len(symbols) - 1:\n",
    "        if symbols[i] == pair[0] and symbols[i + 1] == pair[1]:\n",
    "            symbols[i : i + 2] = [pair[0] + pair[1]]\n",
    "        else:\n",
    "            i += 1\n",
    "print(\"After merge:\", symbols)\n"
   ]
  },
  {
   "cell_type": "markdown",
   "id": "9e07d8fd",
   "metadata": {},
   "source": [
    "### Ranges, enumeration, and zipping\n",
    "\n",
    "When you need index positions alongside values (for example, iterating over embedding dimensions), `range`, `enumerate`, and `zip` are indispensable."
   ]
  },
  {
   "cell_type": "code",
   "execution_count": null,
   "id": "63984945",
   "metadata": {},
   "outputs": [],
   "source": [
    "\n",
    "# range(start, stop) generates integers; stop is exclusive\n",
    "for i in range(3):\n",
    "    print(\"Iteration\", i)\n",
    "\n",
    "# enumerate supplies (index, value)\n",
    "planets = [\"Mercury\", \"Venus\", \"Earth\"]\n",
    "for idx, planet in enumerate(planets, start=1):\n",
    "    print(f\"Planet {idx}: {planet}\")\n",
    "\n",
    "# zip combines sequences position-wise\n",
    "coords = [0, 1, 2]\n",
    "names = [\"x\", \"y\", \"z\"]\n",
    "for coord, name in zip(coords, names):\n",
    "    print(f\"Axis {name} -> index {coord}\")\n"
   ]
  },
  {
   "cell_type": "markdown",
   "id": "e90ed641",
   "metadata": {},
   "source": [
    "## 4. Defining and returning functions\n",
    "\n",
    "In Lessons 1–3 we create helper functions like `get_vocab` and `sample`. Here's how to define our own.\n",
    "\n",
    "* Use the `def` keyword.\n",
    "* Provide parameters inside parentheses.\n",
    "* Use `return` to hand back a value."
   ]
  },
  {
   "cell_type": "code",
   "execution_count": null,
   "id": "dd41e363",
   "metadata": {},
   "outputs": [],
   "source": [
    "\n",
    "def describe_token(token):\n",
    "    \"\"\"Return token length and uppercase form.\"\"\"\n",
    "    length = len(token)\n",
    "    shout = token.upper()\n",
    "    return length, shout\n",
    "\n",
    "info = describe_token(\"astronaut\")\n",
    "print(info)\n",
    "\n",
    "# Functions can be used inside other functions\n",
    "def tokens_longer_than(tokens, min_length):\n",
    "    return [tok for tok in tokens if len(tok) >= min_length]\n",
    "\n",
    "print(tokens_longer_than([\"dog\", \"satellite\", \"wolf\"], 5))\n"
   ]
  },
  {
   "cell_type": "markdown",
   "id": "0a96bf71",
   "metadata": {},
   "source": [
    "### Lambda expressions (anonymous functions)\n",
    "\n",
    "Sometimes we pass a tiny function as an argument—`lambda` gives us a compact way to do that. Lesson 3 uses custom scoring functions, and Lesson 2 sorts by cosine similarity."
   ]
  },
  {
   "cell_type": "code",
   "execution_count": null,
   "id": "47dfda67",
   "metadata": {},
   "outputs": [],
   "source": [
    "\n",
    "words = [\"dog\", \"wolf\", \"falcon\", \"rocket\"]\n",
    "\n",
    "# Sort by word length using a lambda function as the key\n",
    "by_length = sorted(words, key=lambda w: len(w))\n",
    "print(by_length)\n"
   ]
  },
  {
   "cell_type": "markdown",
   "id": "dcc61f06",
   "metadata": {},
   "source": [
    "## 5. Modules and imports\n",
    "\n",
    "A **module** is a file that contains reusable code. We bring modules into our notebooks with `import` statements.\n",
    "\n",
    "| Module | What it provides in later lessons |\n",
    "| --- | --- |\n",
    "| `pathlib` | The `Path` class for navigating the data folder (Lessons 1–6). |\n",
    "| `collections` | `Counter` for counting tokens (Lessons 1 & 3). |\n",
    "| `re` | Regular expressions for splitting text (Lessons 1, 3, 6). |\n",
    "| `random` | Sampling words when generating text (Lessons 3 & 4). |\n",
    "| `math` | Functions like `log2` and `sqrt` for probabilities and scaling (Lessons 3–6). |\n",
    "| `numpy` | Numerical arrays for embeddings (Lesson 2). |\n",
    "| `matplotlib.pyplot` | Plotting embeddings (Lesson 2). |\n",
    "| `torch` and `torch.nn` | Neural network building blocks (Lesson 4). |\n",
    "| `datasets` & `transformers` | Hugging Face tools for fine-tuning (Lesson 5). |"
   ]
  },
  {
   "cell_type": "code",
   "execution_count": null,
   "id": "7b912ddd",
   "metadata": {},
   "outputs": [],
   "source": [
    "\n",
    "from pathlib import Path\n",
    "from collections import Counter\n",
    "import re\n",
    "import random\n",
    "import math\n",
    "\n",
    "# Path helps us build OS-independent file paths\n",
    "corpus_path = Path(\"../data\") / \"space.txt\"\n",
    "print(\"Path exists?\", corpus_path.exists())\n",
    "\n",
    "# Read text from a file (Lesson 1 style)\n",
    "text = corpus_path.read_text(encoding=\"utf-8\")\n",
    "print(\"Sample:\", text[:60])\n",
    "\n",
    "# Use regex to find words\n",
    "tokens = re.findall(r\"[a-zA-Z']+\", text.lower())\n",
    "print(\"First tokens:\", tokens[:10])\n",
    "\n",
    "# Count frequencies\n",
    "counts = Counter(tokens)\n",
    "print(\"Most common:\", counts.most_common(5))\n",
    "\n",
    "# Random sampling (e.g., Lesson 3's text generation)\n",
    "random.seed(42)\n",
    "print(\"Random token:\", random.choice(tokens))\n",
    "\n",
    "# Math utilities\n",
    "prob = 0.125\n",
    "print(\"Information content (bits):\", -math.log2(prob))\n"
   ]
  },
  {
   "cell_type": "markdown",
   "id": "e0d94176",
   "metadata": {},
   "source": [
    "### Practice prompt\n",
    "\n",
    "Try changing the regular expression to `r\"[a-zA-Z]+\"` and observe how contractions such as \"it's\" are handled."
   ]
  },
  {
   "cell_type": "markdown",
   "id": "e64dc6ba",
   "metadata": {},
   "source": [
    "## 6. File input/output basics\n",
    "\n",
    "We often store intermediate artifacts such as merged corpora or saved models. The two most common approaches in this course are:\n",
    "\n",
    "1. `Path.read_text()` and `Path.write_text()` from the `pathlib` module.\n",
    "2. The built-in `open()` function used inside a `with` block."
   ]
  },
  {
   "cell_type": "code",
   "execution_count": null,
   "id": "32f6cb64",
   "metadata": {},
   "outputs": [],
   "source": [
    "\n",
    "from pathlib import Path\n",
    "\n",
    "lesson_dir = Path(\"../data\")\n",
    "snippet_path = lesson_dir / \"mini_snippet.txt\"\n",
    "\n",
    "snippet_path.write_text(\"Galaxies whisper through the vacuum.\", encoding=\"utf-8\")\n",
    "print(snippet_path.read_text(encoding=\"utf-8\"))\n",
    "\n",
    "# with-open pattern automatically closes the file\n",
    "data = []\n",
    "with open(snippet_path, \"r\", encoding=\"utf-8\") as handle:\n",
    "    for line in handle:\n",
    "        data.append(line.strip())\n",
    "print(data)\n"
   ]
  },
  {
   "cell_type": "markdown",
   "id": "998dbf74",
   "metadata": {},
   "source": [
    "## 7. Numerical computing with NumPy\n",
    "\n",
    "Lesson 2 builds word embeddings using the Singular Value Decomposition (SVD). To follow that lesson you need to understand:\n",
    "\n",
    "* How to create arrays with `numpy` (`np.array`, `np.zeros`).\n",
    "* Basic arithmetic and slicing on arrays.\n",
    "* Linear algebra helpers like `np.dot`, `np.linalg.norm`, and `np.linalg.svd`."
   ]
  },
  {
   "cell_type": "code",
   "execution_count": null,
   "id": "26e15eb4",
   "metadata": {},
   "outputs": [],
   "source": [
    "\n",
    "import numpy as np\n",
    "\n",
    "# Co-occurrence matrix example (rows and columns correspond to words)\n",
    "words = [\"dog\", \"wolf\", \"moon\"]\n",
    "cooc = np.zeros((3, 3), dtype=np.float32)\n",
    "cooc[0, 1] = 2\n",
    "cooc[0, 2] = 1\n",
    "cooc[1, 0] = 2\n",
    "cooc[2, 0] = 1\n",
    "print(cooc)\n",
    "\n",
    "# Matrix factorization via SVD\n",
    "U, S, VT = np.linalg.svd(cooc + 1e-6, full_matrices=False)\n",
    "embeddings = U[:, :2] * S[:2]\n",
    "print(\"Embeddings shape:\", embeddings.shape)\n",
    "\n",
    "# Cosine similarity helper (Lesson 2)\n",
    "def cosine(a, b):\n",
    "    return float(np.dot(a, b) / (np.linalg.norm(a) * np.linalg.norm(b) + 1e-9))\n",
    "\n",
    "print(\"Similarity dog/wolf:\", cosine(embeddings[0], embeddings[1]))\n"
   ]
  },
  {
   "cell_type": "markdown",
   "id": "027f57b6",
   "metadata": {},
   "source": [
    "## 8. Visualization with Matplotlib\n",
    "\n",
    "Plotting embeddings helps us reason about spatial relationships. Lesson 2 saves charts with `plt.savefig`. Here's a miniature example."
   ]
  },
  {
   "cell_type": "code",
   "execution_count": null,
   "id": "bc6c361d",
   "metadata": {},
   "outputs": [],
   "source": [
    "\n",
    "import matplotlib.pyplot as plt\n",
    "\n",
    "plt.figure(figsize=(4, 4))\n",
    "plt.scatter(embeddings[:, 0], embeddings[:, 1])\n",
    "for idx, word in enumerate(words):\n",
    "    plt.text(embeddings[idx, 0], embeddings[idx, 1], word)\n",
    "plt.title(\"Mini embedding map\")\n",
    "plt.savefig(\"../images/lesson0_embeddings.png\", bbox_inches=\"tight\")\n",
    "plt.show()\n"
   ]
  },
  {
   "cell_type": "markdown",
   "id": "e022cfdc",
   "metadata": {},
   "source": [
    "## 9. Probabilities, randomness, and evaluation metrics\n",
    "\n",
    "Language models assign probabilities to sequences and we evaluate them with cross-entropy or perplexity. The utilities below match Lessons 3 and 6."
   ]
  },
  {
   "cell_type": "code",
   "execution_count": null,
   "id": "221fb1c4",
   "metadata": {},
   "outputs": [],
   "source": [
    "\n",
    "import math\n",
    "import random\n",
    "\n",
    "# Probability sampling (akin to Lesson 3's n-gram sampling)\n",
    "options = [\"wolf\", \"villager\", \"astronaut\"]\n",
    "weights = [0.5, 0.3, 0.2]\n",
    "\n",
    "def weighted_choice(options, weights):\n",
    "    total = sum(weights)\n",
    "    r = random.random() * total\n",
    "    cumulative = 0.0\n",
    "    for option, weight in zip(options, weights):\n",
    "        cumulative += weight\n",
    "        if cumulative >= r:\n",
    "            return option\n",
    "\n",
    "print(\"Sampled option:\", weighted_choice(options, weights))\n",
    "\n",
    "# Cross-entropy and perplexity (Lesson 3 & 6)\n",
    "def cross_entropy(probabilities):\n",
    "    return -sum(math.log2(max(p, 1e-12)) for p in probabilities) / len(probabilities)\n",
    "\n",
    "def perplexity(probabilities):\n",
    "    return 2 ** cross_entropy(probabilities)\n",
    "\n",
    "sample_probs = [0.5, 0.25, 0.25]\n",
    "print(\"Cross-entropy:\", cross_entropy(sample_probs))\n",
    "print(\"Perplexity:\", perplexity(sample_probs))\n"
   ]
  },
  {
   "cell_type": "markdown",
   "id": "03d263a9",
   "metadata": {},
   "source": [
    "## 10. PyTorch fundamentals\n",
    "\n",
    "PyTorch powers Lesson 4's tiny transformer. Key ideas:\n",
    "\n",
    "* A **tensor** is a multi-dimensional array (similar to a NumPy array) that tracks gradients.\n",
    "* `torch.nn.Module` is the base class for neural network components.\n",
    "* Layers like `nn.Linear`, `nn.LayerNorm`, and activation functions transform tensors.\n",
    "* The training loop repeats forward pass → loss computation → backward pass → parameter update."
   ]
  },
  {
   "cell_type": "code",
   "execution_count": null,
   "id": "5d7e1ac9",
   "metadata": {},
   "outputs": [],
   "source": [
    "\n",
    "import torch\n",
    "import torch.nn as nn\n",
    "\n",
    "print(\"PyTorch version:\", torch.__version__)\n",
    "device = \"cuda\" if torch.cuda.is_available() else \"cpu\"\n",
    "print(\"Using device:\", device)\n",
    "\n",
    "# Create tensors\n",
    "x = torch.tensor([[1.0, 2.0, 3.0]])\n",
    "W = torch.randn(3, 2)\n",
    "print(\"Linear transform:\", x @ W)\n",
    "\n",
    "# Simple feed-forward block similar to Lesson 4's transformer block\n",
    "class FeedForward(nn.Module):\n",
    "    def __init__(self, n_embd):\n",
    "        super().__init__()\n",
    "        self.net = nn.Sequential(\n",
    "            nn.Linear(n_embd, 4 * n_embd),\n",
    "            nn.GELU(),\n",
    "            nn.Linear(4 * n_embd, n_embd),\n",
    "        )\n",
    "\n",
    "    def forward(self, x):\n",
    "        return self.net(x)\n",
    "\n",
    "block = FeedForward(8)\n",
    "inputs = torch.randn(2, 5, 8)  # batch, time, embedding\n",
    "outputs = block(inputs)\n",
    "print(\"Output shape:\", outputs.shape)\n"
   ]
  },
  {
   "cell_type": "markdown",
   "id": "f96e44cb",
   "metadata": {},
   "source": [
    "### Attention-style tensor operations\n",
    "\n",
    "Lesson 4 relies on reshaping tensors to manage multiple attention heads. You should recognize these methods:\n",
    "\n",
    "* `.view` and `.reshape` change tensor dimensions without copying data.\n",
    "* `.transpose` swaps axes.\n",
    "* `.contiguous()` ensures memory layout is suitable for reshaping.\n",
    "* `@` performs matrix multiplication, while `torch.softmax` converts logits to probabilities."
   ]
  },
  {
   "cell_type": "code",
   "execution_count": null,
   "id": "76f94bfb",
   "metadata": {},
   "outputs": [],
   "source": [
    "\n",
    "import math\n",
    "\n",
    "B, T, C = 2, 4, 8   # batch, time, channels\n",
    "heads = 2\n",
    "head_dim = C // heads\n",
    "\n",
    "x = torch.randn(B, T, C)\n",
    "qkv = torch.randn(B, T, 3 * C)\n",
    "q, k, v = qkv.chunk(3, dim=-1)\n",
    "q = q.view(B, T, heads, head_dim).transpose(1, 2)\n",
    "k = k.view(B, T, heads, head_dim).transpose(1, 2)\n",
    "v = v.view(B, T, heads, head_dim).transpose(1, 2)\n",
    "\n",
    "scores = (q @ k.transpose(-2, -1)) / math.sqrt(head_dim)\n",
    "mask = torch.tril(torch.ones(T, T)) == 0\n",
    "scores.masked_fill_(mask, float(\"-inf\"))\n",
    "attn = torch.softmax(scores, dim=-1)\n",
    "context = attn @ v\n",
    "context = context.transpose(1, 2).contiguous().view(B, T, C)\n",
    "print(\"Attention context shape:\", context.shape)\n"
   ]
  },
  {
   "cell_type": "markdown",
   "id": "53ffce35",
   "metadata": {},
   "source": [
    "### Training loop ingredients\n",
    "\n",
    "`torch.no_grad` tells PyTorch not to track gradients (used when evaluating). Optimizers such as `torch.optim.AdamW` update parameters."
   ]
  },
  {
   "cell_type": "code",
   "execution_count": null,
   "id": "bc2b42cd",
   "metadata": {},
   "outputs": [],
   "source": [
    "\n",
    "model = nn.Linear(4, 2)\n",
    "optimizer = torch.optim.AdamW(model.parameters(), lr=1e-3)\n",
    "criterion = nn.MSELoss()\n",
    "\n",
    "for step in range(3):\n",
    "    inputs = torch.randn(5, 4)\n",
    "    targets = torch.randn(5, 2)\n",
    "    outputs = model(inputs)\n",
    "    loss = criterion(outputs, targets)\n",
    "    optimizer.zero_grad()\n",
    "    loss.backward()\n",
    "    optimizer.step()\n",
    "    print(f\"Step {step}: loss={loss.item():.4f}\")\n",
    "\n",
    "@torch.no_grad()\n",
    "def evaluate(inputs):\n",
    "    logits = model(inputs)\n",
    "    return logits\n",
    "\n",
    "print(\"Eval logits:\", evaluate(torch.randn(2, 4)))\n"
   ]
  },
  {
   "cell_type": "markdown",
   "id": "a69600b6",
   "metadata": {},
   "source": [
    "## 11. Hugging Face datasets and transformers\n",
    "\n",
    "Lesson 5 fine-tunes `distilgpt2`. The key Python concepts are:\n",
    "\n",
    "* Using `Path` and standard file writing to merge corpora.\n",
    "* Creating a `datasets.Dataset` from a dictionary.\n",
    "* Loading pre-trained tokenizers and models with `transformers`.\n",
    "* Configuring `TrainingArguments` and running a `Trainer`.\n",
    "* Generating text with the `pipeline` helper.\n",
    "\n",
    "Below is a lightweight dry run that mirrors the structure without requiring a full training session."
   ]
  },
  {
   "cell_type": "code",
   "execution_count": null,
   "id": "adeb4361",
   "metadata": {},
   "outputs": [],
   "source": [
    "\n",
    "from datasets import Dataset\n",
    "from transformers import AutoTokenizer\n",
    "\n",
    "mini_corpus = \"Wolves explore space. Villagers watch the stars.\"\n",
    "dataset = Dataset.from_dict({\"text\": [mini_corpus]})\n",
    "print(dataset)\n",
    "\n",
    "tokenizer = AutoTokenizer.from_pretrained(\"distilgpt2\", use_fast=True)\n",
    "encoded = dataset.map(lambda batch: tokenizer(batch[\"text\"], truncation=True), batched=True)\n",
    "print(encoded[0][\"input_ids\"][:10])\n"
   ]
  },
  {
   "cell_type": "markdown",
   "id": "c1410a59",
   "metadata": {},
   "source": [
    "> **Note:** Fine-tuning requires additional components (`AutoModelForCausalLM`, `DataCollatorForLanguageModeling`, `TrainingArguments`, and `Trainer`). You will assemble those pieces in Lesson 5 once you are comfortable with the syntax shown here."
   ]
  },
  {
   "cell_type": "markdown",
   "id": "6d8a4c1a",
   "metadata": {},
   "source": [
    "## 12. Regular expressions and simple safety filters\n",
    "\n",
    "Lesson 6 demonstrates rule-based safety checks. Python's `re` module searches for patterns inside text."
   ]
  },
  {
   "cell_type": "code",
   "execution_count": null,
   "id": "02cba3c5",
   "metadata": {},
   "outputs": [],
   "source": [
    "\n",
    "import re\n",
    "\n",
    "FORBIDDEN = [r\"credit card number\", r\"social security number\"]\n",
    "\n",
    "def safe_input(user_text):\n",
    "    lowered = user_text.lower()\n",
    "    for pattern in FORBIDDEN:\n",
    "        if re.search(pattern, lowered):\n",
    "            return False, f\"Blocked by rule: {pattern}\"\n",
    "    return True, \"ok\"\n",
    "\n",
    "examples = [\n",
    "    \"Tell me about wolves in Minecraft.\",\n",
    "    \"What is a social security number?\",\n",
    "]\n",
    "for text in examples:\n",
    "    print(text, \"->\", safe_input(text))\n"
   ]
  },
  {
   "cell_type": "markdown",
   "id": "4b1fa371",
   "metadata": {},
   "source": [
    "## 13. Pulling it all together\n",
    "\n",
    "You now have a working vocabulary for every concept used in Lessons 1–6:\n",
    "\n",
    "1. Read and manipulate text with `Path`, `re`, and `Counter`.\n",
    "2. Control program flow using functions, loops, comprehensions, and conditionals.\n",
    "3. Work with arrays, tensors, and neural network layers in NumPy and PyTorch.\n",
    "4. Load and fine-tune large language models with Hugging Face tools.\n",
    "\n",
    "Keep this notebook handy as a reference. Whenever later lessons introduce a new idea, look back at the corresponding section here to reinforce the foundation."
   ]
  }
 ],
 "metadata": {
  "kernelspec": {
   "display_name": "Python 3",
   "language": "python",
   "name": "python3"
  },
  "language_info": {
   "name": "python"
  }
 },
 "nbformat": 4,
 "nbformat_minor": 5
}
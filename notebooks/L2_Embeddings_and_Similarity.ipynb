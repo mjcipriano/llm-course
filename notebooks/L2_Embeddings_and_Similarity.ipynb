{
 "cells": [
  {
   "cell_type": "markdown",
   "id": "968719c2",
   "metadata": {},
   "source": [
    "\n",
    "# Lesson 2 — Embeddings & Similarity (Co-occurrence → SVD)\n",
    "**Goal:** Build *your own* word embeddings from a small corpus using co-occurrence counts + SVD, then explore neighbors with cosine similarity.\n",
    "\n",
    "**What you'll learn**\n",
    "- One-hot vs dense embeddings\n",
    "- Co-occurrence windows build semantic structure\n",
    "- SVD compresses information into a small vector\n",
    "- Visualize 2D embeddings, find nearest neighbors\n"
   ]
  },
  {
   "cell_type": "code",
   "execution_count": null,
   "id": "fb9d5a68",
   "metadata": {},
   "outputs": [],
   "source": [
    "\n",
    "from pathlib import Path\n",
    "import re, math\n",
    "import numpy as np\n",
    "import matplotlib.pyplot as plt\n",
    "\n",
    "data_dir = Path(\"../data\")\n",
    "text = \"\"\n",
    "for fname in [\"space.txt\",\"animals.txt\",\"minecraft.txt\"]:\n",
    "    text += (data_dir / fname).read_text(encoding=\"utf-8\") + \"\\n\"\n",
    "\n",
    "# basic cleanup\n",
    "tokens = re.findall(r\"[a-zA-Z']+\", text.lower())\n",
    "vocab = sorted(set(tokens))\n",
    "word2idx = {w:i for i,w in enumerate(vocab)}\n",
    "idx2word = {i:w for w,i in word2idx.items()}\n",
    "len(vocab), tokens[:20]\n"
   ]
  },
  {
   "cell_type": "markdown",
   "id": "b90327a6",
   "metadata": {},
   "source": [
    "\n",
    "## Build co-occurrence matrix\n",
    "Use a symmetric window (e.g., size=2) and count neighbor appearances.\n"
   ]
  },
  {
   "cell_type": "code",
   "execution_count": null,
   "id": "217e58d4",
   "metadata": {},
   "outputs": [],
   "source": [
    "\n",
    "window = 2\n",
    "V = len(vocab)\n",
    "cooc = np.zeros((V,V), dtype=np.float32)\n",
    "\n",
    "for i, w in enumerate(tokens):\n",
    "    wi = word2idx[w]\n",
    "    for j in range(max(0,i-window), min(len(tokens), i+window+1)):\n",
    "        if j == i: continue\n",
    "        wj = word2idx[tokens[j]]\n",
    "        cooc[wi, wj] += 1.0\n",
    "\n",
    "print(\"Co-occurrence built:\", cooc.shape)\n"
   ]
  },
  {
   "cell_type": "markdown",
   "id": "dcffdd9f",
   "metadata": {},
   "source": [
    "\n",
    "## SVD to get embeddings\n",
    "We’ll do truncated SVD to, say, 2 or 16 dims. Then visualize the 2D projection.\n"
   ]
  },
  {
   "cell_type": "code",
   "execution_count": null,
   "id": "3bc3290a",
   "metadata": {},
   "outputs": [],
   "source": [
    "\n",
    "# SVD\n",
    "U, S, VT = np.linalg.svd(cooc + 1e-6, full_matrices=False)\n",
    "dims = 16\n",
    "emb = U[:, :dims] * S[:dims]\n",
    "\n",
    "# 2D for plotting\n",
    "emb2 = emb[:, :2]\n",
    "\n",
    "# Pick some words to label (space/dogs/minecraft themed)\n",
    "focus = [w for w in [\"dog\", \"dogs\", \"wolf\", \"wolves\", \"creeper\",\"village\",\"portal\",\n",
    "                     \"star\",\"stars\",\"rocket\",\"ship\",\"moon\",\"falcon\",\"cheetahs\",\"pandas\"]\n",
    "         if w in word2idx]\n",
    "\n",
    "plt.figure(figsize=(6,6))\n",
    "plt.scatter(emb2[:,0], emb2[:,1], alpha=0.1)\n",
    "for w in focus:\n",
    "    i = word2idx[w]\n",
    "    plt.text(emb2[i,0], emb2[i,1], w)\n",
    "plt.title(\"2D Embeddings (SVD of co-occurrence)\")\n",
    "plt.savefig(\"../images/embeddings_2d.png\", bbox_inches=\"tight\")\n",
    "plt.show()\n"
   ]
  },
  {
   "cell_type": "markdown",
   "id": "494847f3",
   "metadata": {},
   "source": [
    "\n",
    "## Cosine similarity & nearest neighbors\n"
   ]
  },
  {
   "cell_type": "code",
   "execution_count": null,
   "id": "afa074d4",
   "metadata": {},
   "outputs": [],
   "source": [
    "\n",
    "def cosine(a,b):\n",
    "    return float(np.dot(a,b) / (np.linalg.norm(a)*np.linalg.norm(b) + 1e-9))\n",
    "\n",
    "def neighbors(query, k=8):\n",
    "    if query not in word2idx:\n",
    "        return []\n",
    "    qi = word2idx[query]\n",
    "    sims = []\n",
    "    for i in range(len(vocab)):\n",
    "        if i == qi: continue\n",
    "        sims.append((cosine(emb[qi], emb[i]), idx2word[i]))\n",
    "    sims.sort(reverse=True)\n",
    "    return sims[:k]\n",
    "\n",
    "for q in [\"dog\",\"creeper\",\"star\",\"village\"]:\n",
    "    print(q, \"->\", neighbors(q))\n"
   ]
  },
  {
   "cell_type": "markdown",
   "id": "d8264df4",
   "metadata": {},
   "source": [
    "\n",
    "### Challenge\n",
    "- Add more themed sentences to the corpus files and re-run. Do neighbors change?\n",
    "- Try different window sizes. What happens?\n"
   ]
  }
 ],
 "metadata": {
  "kernelspec": {
   "display_name": "Python 3",
   "name": "python3"
  }
 },
 "nbformat": 4,
 "nbformat_minor": 5
}

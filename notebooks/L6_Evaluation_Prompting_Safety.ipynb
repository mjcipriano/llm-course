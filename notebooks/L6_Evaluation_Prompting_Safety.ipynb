{
 "cells": [
  {
   "cell_type": "markdown",
   "id": "4ee5f34f",
   "metadata": {},
   "source": [
    "\n",
    "# Lesson 6 — Evaluate, Prompt, and Add Simple Safety\n",
    "**Goal:** Measure model quality (perplexity), practice prompting, and implement a tiny safety/guardrails layer.\n",
    "\n",
    "**What you'll learn**\n",
    "- Perplexity on held-out text\n",
    "- Prompt patterns (role, constraint, examples)\n",
    "- Simple rule-based safety screen (demo)\n"
   ]
  },
  {
   "cell_type": "code",
   "execution_count": null,
   "id": "33465d91",
   "metadata": {},
   "outputs": [],
   "source": [
    "\n",
    "import math, re\n",
    "from pathlib import Path\n",
    "import torch\n",
    "\n",
    "# We'll reuse Lesson 4's character-level model if available.\n",
    "# Otherwise, demonstrate perplexity with n-gram from Lesson 3 re-implemented quickly.\n",
    "\n",
    "data_dir = Path(\"../data\")\n",
    "text = \"\"\n",
    "for fname in [\"space.txt\",\"animals.txt\",\"minecraft.txt\"]:\n",
    "    text += (data_dir / fname).read_text(encoding=\"utf-8\") + \"\\n\"\n",
    "tokens = re.findall(r\"[a-zA-Z']+|[.,!?;:]\", text.lower())\n"
   ]
  },
  {
   "cell_type": "code",
   "execution_count": null,
   "id": "8bc0de2c",
   "metadata": {},
   "outputs": [],
   "source": [
    "\n",
    "# Simple bigram LM for evaluation demo\n",
    "import collections, math, random\n",
    "def ngrams(tokens, n):\n",
    "    for i in range(len(tokens)-n+1):\n",
    "        yield tuple(tokens[i:i+n])\n",
    "\n",
    "def train_bigram(tokens, k=0.5):\n",
    "    counts = collections.Counter(ngrams(tokens, 2))\n",
    "    ctx_counts = collections.Counter(ngrams(tokens, 1))\n",
    "    vocab = sorted(set(tokens))\n",
    "    V = len(vocab)\n",
    "    def prob(context, w):\n",
    "        c = counts[(context,w)]\n",
    "        ctx = ctx_counts[(context,)]\n",
    "        return (c + k) / (ctx + k*V)\n",
    "    return prob, vocab\n",
    "\n",
    "bigram, V = train_bigram(tokens, k=0.5)\n",
    "\n",
    "def cross_entropy(prob, vocab, tokens):\n",
    "    split = int(0.8*len(tokens))\n",
    "    test = tokens[split:]\n",
    "    H = 0.0\n",
    "    count = 0\n",
    "    for i in range(1, len(test)):\n",
    "        p = max(prob(test[i-1], test[i]), 1e-12)\n",
    "        H += -math.log2(p)\n",
    "        count += 1\n",
    "    return H/max(count,1), 2**(H/max(count,1))\n",
    "\n",
    "H, ppl = cross_entropy(bigram, V, tokens)\n",
    "print(f\"Bigram perplexity on held-out: {ppl:.2f}\")\n"
   ]
  },
  {
   "cell_type": "markdown",
   "id": "58bb5d6e",
   "metadata": {},
   "source": [
    "\n",
    "## Prompting patterns (for larger LLMs)\n",
    "When you use a bigger model (like GPT-2/3+), structure prompts with:\n",
    "- **Role/Goal:** “You are a helpful math tutor…”\n",
    "- **Constraints:** “Use steps, show equations.”\n",
    "- **Examples:** Few-shot demonstrations.\n",
    "- **Checks:** “Double-check arithmetic.”\n",
    "Try these patterns when using your fine-tuned model (Lesson 5) or an API.\n"
   ]
  },
  {
   "cell_type": "markdown",
   "id": "de7d890f",
   "metadata": {},
   "source": [
    "\n",
    "## Simple Safety Filter (demo)\n",
    "Below is a tiny demonstration of *rule-based* screening (e.g., reject if input matches forbidden patterns).\n",
    "This is **not** a complete safety system—just a conceptual intro.\n"
   ]
  },
  {
   "cell_type": "code",
   "execution_count": null,
   "id": "263edf6d",
   "metadata": {},
   "outputs": [],
   "source": [
    "\n",
    "FORBIDDEN = [\n",
    "    r\"how to make a bomb\",\n",
    "    r\"credit card number\",\n",
    "    r\"social security number\",\n",
    "]\n",
    "\n",
    "def safe_input(user_text):\n",
    "    t = user_text.lower()\n",
    "    for pat in FORBIDDEN:\n",
    "        if re.search(pat, t):\n",
    "            return False, f\"Blocked by rule: {pat}\"\n",
    "    return True, \"ok\"\n",
    "\n",
    "tests = [\n",
    "    \"Tell me a Minecraft story about wolves\",\n",
    "    \"how to make a bomb from household items\",\n",
    "    \"What's a credit card number?\"\n",
    "]\n",
    "for t in tests:\n",
    "    ok, msg = safe_input(t)\n",
    "    print(f\"{t!r} -> {ok}, {msg}\")\n"
   ]
  },
  {
   "cell_type": "markdown",
   "id": "5a52598b",
   "metadata": {},
   "source": [
    "\n",
    "### Challenges\n",
    "- Extend evaluation to trigram or your tiny Transformer (compute NLL over held-out chars).\n",
    "- Expand safety rules responsibly (or learn about modern techniques like RLHF).\n"
   ]
  }
 ],
 "metadata": {
  "kernelspec": {
   "display_name": "Python 3",
   "name": "python3"
  }
 },
 "nbformat": 4,
 "nbformat_minor": 5
}
